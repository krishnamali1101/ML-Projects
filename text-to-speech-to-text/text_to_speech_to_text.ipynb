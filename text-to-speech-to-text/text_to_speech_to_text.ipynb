{
 "cells": [
  {
   "cell_type": "markdown",
   "metadata": {},
   "source": [
    "# Text to speech"
   ]
  },
  {
   "cell_type": "code",
   "execution_count": 113,
   "metadata": {},
   "outputs": [
    {
     "name": "stdout",
     "output_type": "stream",
     "text": [
      "Requirement already satisfied: gTTS in /anaconda3/lib/python3.7/site-packages (2.1.1)\n",
      "Requirement already satisfied: requests in /anaconda3/lib/python3.7/site-packages (from gTTS) (2.22.0)\n",
      "Requirement already satisfied: beautifulsoup4 in /anaconda3/lib/python3.7/site-packages (from gTTS) (4.7.1)\n",
      "Requirement already satisfied: six in /anaconda3/lib/python3.7/site-packages (from gTTS) (1.12.0)\n",
      "Requirement already satisfied: click in /anaconda3/lib/python3.7/site-packages (from gTTS) (7.0)\n",
      "Requirement already satisfied: gtts-token>=1.1.3 in /anaconda3/lib/python3.7/site-packages (from gTTS) (1.1.3)\n",
      "Requirement already satisfied: urllib3!=1.25.0,!=1.25.1,<1.26,>=1.21.1 in /anaconda3/lib/python3.7/site-packages (from requests->gTTS) (1.24.2)\n",
      "Requirement already satisfied: certifi>=2017.4.17 in /anaconda3/lib/python3.7/site-packages (from requests->gTTS) (2019.6.16)\n",
      "Requirement already satisfied: idna<2.9,>=2.5 in /anaconda3/lib/python3.7/site-packages (from requests->gTTS) (2.8)\n",
      "Requirement already satisfied: chardet<3.1.0,>=3.0.2 in /anaconda3/lib/python3.7/site-packages (from requests->gTTS) (3.0.4)\n",
      "Requirement already satisfied: soupsieve>=1.2 in /anaconda3/lib/python3.7/site-packages (from beautifulsoup4->gTTS) (1.8)\n"
     ]
    }
   ],
   "source": [
    "!pip install gTTS \n",
    "#Google Text-to-Speech"
   ]
  },
  {
   "cell_type": "code",
   "execution_count": 114,
   "metadata": {},
   "outputs": [
    {
     "name": "stdout",
     "output_type": "stream",
     "text": [
      "\u001b[33mWarning:\u001b[0m mpg123 1.25.13 is already installed and up-to-date\r\n",
      "To reinstall 1.25.13, run `brew reinstall mpg123`\r\n"
     ]
    }
   ],
   "source": [
    "!brew install mpg123 # for mac"
   ]
  },
  {
   "cell_type": "code",
   "execution_count": 115,
   "metadata": {},
   "outputs": [
    {
     "name": "stdout",
     "output_type": "stream",
     "text": [
      "Requirement already satisfied: mpyg321 in /anaconda3/lib/python3.7/site-packages (0.0.2)\r\n"
     ]
    }
   ],
   "source": [
    "!pip install mpyg321 # for win"
   ]
  },
  {
   "cell_type": "code",
   "execution_count": 116,
   "metadata": {},
   "outputs": [],
   "source": [
    "\n",
    "def text_to_speech(mytext, out_file_path = 'demo.mp3'):\n",
    "    #print(mytext)\n",
    "    # Import the required module for text \n",
    "    # to speech conversion \n",
    "    from gtts import gTTS \n",
    "    import os \n",
    "\n",
    "    # Language in which you want to convert \n",
    "    language = 'en'\n",
    "\n",
    "    # Passing the text and language to the engine, \n",
    "    # here we have marked slow=False. Which tells \n",
    "    # the module that the converted audio should \n",
    "    # have a high speed \n",
    "    myobj = gTTS(text=mytext, lang=language, slow=False) \n",
    "\n",
    "    # Saving the converted audio in a mp3 file named \n",
    "    # welcome \n",
    "    myobj.save(out_file_path) \n",
    "\n",
    "    # Playing the converted file \n",
    "    os.system(\"mpg123 \" + out_file_path)\n"
   ]
  },
  {
   "cell_type": "code",
   "execution_count": 117,
   "metadata": {},
   "outputs": [],
   "source": [
    "text_to_speech(\"hello, my name is krishna\")"
   ]
  },
  {
   "cell_type": "markdown",
   "metadata": {},
   "source": [
    "---"
   ]
  },
  {
   "cell_type": "markdown",
   "metadata": {},
   "source": [
    "# speech to text"
   ]
  },
  {
   "cell_type": "code",
   "execution_count": 118,
   "metadata": {},
   "outputs": [
    {
     "name": "stdout",
     "output_type": "stream",
     "text": [
      "Requirement already satisfied: SpeechRecognition in /anaconda3/lib/python3.7/site-packages (3.8.1)\r\n",
      "Requirement already satisfied: pyaudio in /anaconda3/lib/python3.7/site-packages (0.2.11)\r\n"
     ]
    }
   ],
   "source": [
    "!pip install SpeechRecognition pyaudio"
   ]
  },
  {
   "cell_type": "code",
   "execution_count": 119,
   "metadata": {},
   "outputs": [],
   "source": [
    "import speech_recognition as sr\n",
    "\n",
    "r = sr.Recognizer()\n",
    "m = sr.Microphone()"
   ]
  },
  {
   "cell_type": "code",
   "execution_count": 121,
   "metadata": {},
   "outputs": [],
   "source": [
    "harvard = sr.AudioFile('harvard.wav')\n",
    "with harvard as source:\n",
    "        audio = r.record(source)"
   ]
  },
  {
   "cell_type": "code",
   "execution_count": 104,
   "metadata": {},
   "outputs": [
    {
     "data": {
      "text/plain": [
       "speech_recognition.AudioData"
      ]
     },
     "execution_count": 104,
     "metadata": {},
     "output_type": "execute_result"
    }
   ],
   "source": [
    "type(audio)"
   ]
  },
  {
   "cell_type": "code",
   "execution_count": 105,
   "metadata": {},
   "outputs": [
    {
     "data": {
      "text/plain": [
       "'the salesman old beer drinkers it takes hi to bring out the order I call dip restore selfinvest a salt a call this find him because of my favourite is just for food is Bihar cross bun'"
      ]
     },
     "execution_count": 105,
     "metadata": {},
     "output_type": "execute_result"
    }
   ],
   "source": [
    "r.recognize_google(audio)"
   ]
  },
  {
   "cell_type": "code",
   "execution_count": 12,
   "metadata": {},
   "outputs": [
    {
     "name": "stdout",
     "output_type": "stream",
     "text": [
      "the salesman old beer drinkers\n"
     ]
    },
    {
     "data": {
      "text/plain": [
       "'ethics hi to bring out the order I call dip restore selfinvest a salt a call this find a.m.'"
      ]
     },
     "execution_count": 12,
     "metadata": {},
     "output_type": "execute_result"
    }
   ],
   "source": [
    "with harvard as source:\n",
    "    audio1 = r.record(source, duration=4)\n",
    "    audio2 = r.record(source, duration=10)\n",
    "    \n",
    "print(r.recognize_google(audio1))\n",
    "\n",
    "r.recognize_google(audio2)\n"
   ]
  },
  {
   "cell_type": "code",
   "execution_count": 106,
   "metadata": {},
   "outputs": [],
   "source": [
    "# recognize_bing(): Microsoft Bing Speech\n",
    "# recognize_google(): Google Web Speech API\n",
    "# recognize_google_cloud(): Google Cloud Speech - requires installation of the google-cloud-speech package\n",
    "# recognize_houndify(): Houndify by SoundHound\n",
    "# recognize_ibm(): IBM Speech to Text\n",
    "# recognize_sphinx(): CMU Sphinx - requires installing PocketSphinx\n",
    "# recognize_wit(): Wit.ai"
   ]
  },
  {
   "cell_type": "markdown",
   "metadata": {},
   "source": [
    "## recognize_speech_from_mic"
   ]
  },
  {
   "cell_type": "code",
   "execution_count": 107,
   "metadata": {},
   "outputs": [],
   "source": [
    "import random\n",
    "import time\n",
    "\n",
    "import speech_recognition as sr\n",
    "\n",
    "\n",
    "def recognize_speech_from_mic(recognizer, microphone, language='en-US', full_responce=True):\n",
    "    \n",
    "    \"\"\"Transcribe speech from recorded from `microphone`.\n",
    "    List of supported languages can be found @ http://stackoverflow.com/a/14302134\n",
    "\n",
    "    Returns a dictionary with three keys:\n",
    "    \"success\": a boolean indicating whether or not the API request was\n",
    "               successful\n",
    "    \"error\":   `None` if no error occured, otherwise a string containing\n",
    "               an error message if the API could not be reached or\n",
    "               speech was unrecognizable\n",
    "    \"transcription\": `None` if speech could not be transcribed,\n",
    "               otherwise a string containing the transcribed text\n",
    "    \"\"\"\n",
    "    # check that recognizer and microphone arguments are appropriate type\n",
    "    if not isinstance(recognizer, sr.Recognizer):\n",
    "        raise TypeError(\"`recognizer` must be `Recognizer` instance\")\n",
    "\n",
    "    if not isinstance(microphone, sr.Microphone):\n",
    "        raise TypeError(\"`microphone` must be `Microphone` instance\")\n",
    "\n",
    "    # adjust the recognizer sensitivity to ambient noise and record audio\n",
    "    # from the microphone\n",
    "    with microphone as source:\n",
    "        recognizer.adjust_for_ambient_noise(source)\n",
    "        audio = recognizer.listen(source)\n",
    "\n",
    "    # set up the response object\n",
    "    response = {\n",
    "        \"success\": True,\n",
    "        \"error\": None,\n",
    "        \"transcription\": None\n",
    "    }\n",
    "\n",
    "    # try recognizing the speech in the recording\n",
    "    # if a RequestError or UnknownValueError exception is caught,\n",
    "    #     update the response object accordingly\n",
    "    try:\n",
    "        response[\"transcription\"] = recognizer.recognize_google(audio, show_all=True)\n",
    "    except sr.RequestError:\n",
    "        # API was unreachable or unresponsive\n",
    "        response[\"success\"] = False\n",
    "        response[\"error\"] = \"API unavailable\"\n",
    "    except sr.UnknownValueError:\n",
    "        # speech was unintelligible\n",
    "        response[\"error\"] = \"Unable to recognize speech\"\n",
    "\n",
    "    if not full_responce:\n",
    "        if response['transcription']:\n",
    "            print(response[\"transcription\"][\"alternative\"][0][\"transcript\"])\n",
    "            return response[\"transcription\"][\"alternative\"][0][\"transcript\"]\n",
    "        else:\n",
    "            return ''\n",
    "        \n",
    "    return response"
   ]
  },
  {
   "cell_type": "code",
   "execution_count": 89,
   "metadata": {},
   "outputs": [
    {
     "data": {
      "text/plain": [
       "{'success': True, 'error': None, 'transcription': []}"
      ]
     },
     "execution_count": 89,
     "metadata": {},
     "output_type": "execute_result"
    }
   ],
   "source": [
    "recognize_speech_from_mic(r, m,full_responce=True)"
   ]
  },
  {
   "cell_type": "code",
   "execution_count": 90,
   "metadata": {},
   "outputs": [
    {
     "data": {
      "text/plain": [
       "''"
      ]
     },
     "execution_count": 90,
     "metadata": {},
     "output_type": "execute_result"
    }
   ],
   "source": [
    "recognize_speech_from_mic(r, m,full_responce=False)"
   ]
  },
  {
   "cell_type": "markdown",
   "metadata": {},
   "source": [
    "---"
   ]
  },
  {
   "cell_type": "markdown",
   "metadata": {},
   "source": [
    "# Speech-to-text-to-Speech"
   ]
  },
  {
   "cell_type": "code",
   "execution_count": 108,
   "metadata": {},
   "outputs": [
    {
     "name": "stdout",
     "output_type": "stream",
     "text": [
      "hello\n"
     ]
    }
   ],
   "source": [
    "text_to_speech(recognize_speech_from_mic(r,m,full_responce=False))"
   ]
  },
  {
   "cell_type": "markdown",
   "metadata": {},
   "source": [
    "# Game"
   ]
  },
  {
   "cell_type": "code",
   "execution_count": 112,
   "metadata": {},
   "outputs": [
    {
     "name": "stdout",
     "output_type": "stream",
     "text": [
      "I'm thinking of one of these words:\n",
      "apple, banana, grape, orange, mango, lemon\n",
      "You have 3 tries to guess which one.\n",
      "\n",
      "Guess 1. Speak!\n",
      "I didn't catch that. What did you say?\n",
      "\n",
      "Guess 1. Speak!\n",
      "You said: mango\n",
      "Correct! You win!\n"
     ]
    }
   ],
   "source": [
    "if __name__ == \"__main__\":\n",
    "    # set the list of words, maxnumber of guesses, and prompt limit\n",
    "    WORDS = [\"apple\", \"banana\", \"grape\", \"orange\", \"mango\", \"lemon\"]\n",
    "    NUM_GUESSES = 3\n",
    "    PROMPT_LIMIT = 5\n",
    "\n",
    "    # create recognizer and mic instances\n",
    "    recognizer = sr.Recognizer()\n",
    "    microphone = sr.Microphone()\n",
    "\n",
    "    # get a random word from the list\n",
    "    word = random.choice(WORDS)\n",
    "\n",
    "    # format the instructions string\n",
    "    instructions = (\n",
    "        \"I'm thinking of one of these words:\\n\"\n",
    "        \"{words}\\n\"\n",
    "        \"You have {n} tries to guess which one.\\n\"\n",
    "    ).format(words=', '.join(WORDS), n=NUM_GUESSES)\n",
    "\n",
    "    # show instructions and wait 3 seconds before starting the game\n",
    "    print(instructions)\n",
    "    text_to_speech(instructions)\n",
    "    time.sleep(1)\n",
    "\n",
    "    for i in range(NUM_GUESSES):\n",
    "        # get the guess from the user\n",
    "        # if a transcription is returned, break out of the loop and\n",
    "        #     continue\n",
    "        # if no transcription returned and API request failed, break\n",
    "        #     loop and continue\n",
    "        # if API request succeeded but no transcription was returned,\n",
    "        #     re-prompt the user to say their guess again. Do this up\n",
    "        #     to PROMPT_LIMIT times\n",
    "        for j in range(PROMPT_LIMIT):\n",
    "            print('Guess {}. Speak!'.format(i+1))\n",
    "            text_to_speech('Guess {}. Speak!'.format(i+1))\n",
    "            guess = recognize_speech_from_mic(recognizer, microphone)\n",
    "            if guess[\"transcription\"]:\n",
    "                break\n",
    "            if not guess[\"success\"]:\n",
    "                break\n",
    "            print(\"I didn't catch that. What did you say?\\n\")\n",
    "            text_to_speech(\"I didn't catch that. What did you say?\\n\")\n",
    "\n",
    "        # if there was an error, stop the game\n",
    "        if guess[\"error\"]:\n",
    "            print(\"ERROR: {}\".format(guess[\"error\"]))\n",
    "            break\n",
    "\n",
    "        user_guess = guess[\"transcription\"][\"alternative\"][0][\"transcript\"]\n",
    "        \n",
    "        # show the user the transcription\n",
    "        print(\"You said: {}\".format(user_guess))\n",
    "        text_to_speech(\"You said: {}\".format(user_guess))\n",
    "\n",
    "        # determine if guess is correct and if any attempts remain\n",
    "        guess_is_correct = user_guess.lower() == word.lower()\n",
    "        user_has_more_attempts = i < NUM_GUESSES - 1\n",
    "\n",
    "        # determine if the user has won the game\n",
    "        # if not, repeat the loop if user has more attempts\n",
    "        # if no attempts left, the user loses the game\n",
    "        if guess_is_correct:\n",
    "            print(\"Correct! You win!\".format(word))\n",
    "            text_to_speech(\"Correct! You win!\".format(word))\n",
    "            break\n",
    "        elif user_has_more_attempts:\n",
    "            print(\"Incorrect. Try again.\\n\")\n",
    "            text_to_speech(\"Incorrect. Try again.\\n\")\n",
    "        else:\n",
    "            print(\"Sorry, you lose!\\nI was thinking of '{}'.\".format(word))\n",
    "            text_to_speech(\"Sorry, you lose!\\nI was thinking of '{}'.\".format(word))\n",
    "            break"
   ]
  },
  {
   "cell_type": "markdown",
   "metadata": {},
   "source": [
    "# Ref"
   ]
  },
  {
   "cell_type": "markdown",
   "metadata": {},
   "source": [
    "https://realpython.com/python-speech-recognition/\n",
    "    \n",
    "https://github.com/realpython/python-speech-recognition\n",
    "\n",
    "https://towardsdatascience.com/easy-text-to-speech-with-python-bfb34250036e"
   ]
  },
  {
   "cell_type": "code",
   "execution_count": null,
   "metadata": {},
   "outputs": [],
   "source": []
  }
 ],
 "metadata": {
  "kernelspec": {
   "display_name": "Python 3",
   "language": "python",
   "name": "python3"
  },
  "language_info": {
   "codemirror_mode": {
    "name": "ipython",
    "version": 3
   },
   "file_extension": ".py",
   "mimetype": "text/x-python",
   "name": "python",
   "nbconvert_exporter": "python",
   "pygments_lexer": "ipython3",
   "version": "3.7.3"
  }
 },
 "nbformat": 4,
 "nbformat_minor": 4
}
